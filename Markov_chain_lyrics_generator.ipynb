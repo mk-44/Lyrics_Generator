{
 "cells": [
  {
   "cell_type": "code",
   "execution_count": 1,
   "metadata": {},
   "outputs": [],
   "source": [
    "def table_to_prob(T):\n",
    "    for kx in T.keys():\n",
    "        s = sum(T[kx].values())\n",
    "        for k in T[kx]:\n",
    "            T[kx][k] /= s\n",
    "    return T"
   ]
  },
  {
   "cell_type": "code",
   "execution_count": 3,
   "metadata": {},
   "outputs": [],
   "source": [
    "def table(data, k = 4):\n",
    "    T = {}\n",
    "    for i in range(len(data)-k):\n",
    "        X = data[i:i+k]\n",
    "        Y = data[i+k]\n",
    "        if T.get(X) is None:\n",
    "            T[X] = {}\n",
    "            T[X][Y] = 1\n",
    "        elif T[X].get(Y) is None:\n",
    "            T[X][Y] = 1\n",
    "        else:\n",
    "            T[X][Y] += 1\n",
    "    \n",
    "    T = table_to_prob(T)\n",
    "    \n",
    "    return T"
   ]
  },
  {
   "cell_type": "code",
   "execution_count": 9,
   "metadata": {},
   "outputs": [],
   "source": [
    "file_name = \"Apna Time Aayega.txt\"\n",
    "\n",
    "def load_text(file_name):\n",
    "    with open(file_name, encoding = 'utf8') as f:\n",
    "        return f.read().lower()\n",
    "text = load_text(file_name)"
   ]
  },
  {
   "cell_type": "code",
   "execution_count": 10,
   "metadata": {},
   "outputs": [],
   "source": [
    "T = table(text)"
   ]
  },
  {
   "cell_type": "code",
   "execution_count": 17,
   "metadata": {},
   "outputs": [],
   "source": [
    "import numpy as np"
   ]
  },
  {
   "cell_type": "code",
   "execution_count": 18,
   "metadata": {},
   "outputs": [],
   "source": [
    "def next_letter(ctx, T, k = 4):\n",
    "    ctx = ctx[-k:]\n",
    "    if T.get(ctx) is None:\n",
    "        return \" \"\n",
    "    val = list(T[ctx].keys())\n",
    "    prob = list(T[ctx].values())\n",
    "    return np.random.choice(val, p = prob)"
   ]
  },
  {
   "cell_type": "code",
   "execution_count": 19,
   "metadata": {},
   "outputs": [],
   "source": [
    "def generate_text(T, st, max_len = 1000, k = 4):\n",
    "    sent = st\n",
    "    ctx = sent[-k:]\n",
    "    for i in range(max_len):\n",
    "        new_letter = next_letter(ctx, T)\n",
    "        sent += new_letter\n",
    "        ctx = sent[-k:]\n",
    "    return sent"
   ]
  },
  {
   "cell_type": "code",
   "execution_count": 22,
   "metadata": {},
   "outputs": [
    {
     "name": "stdout",
     "output_type": "stream",
     "text": [
      "Apna Time aaya hai\n",
      "zaroorat ki\n",
      "mohobbat ki\n",
      "adalat yahaan marzi ki\n",
      "aur jurrat ne hi to aayega\n",
      "kya ghanta lekar jaayega\n",
      "apna time aayega\n",
      "aayega\n",
      "apna time aayega x (2)\n",
      " \n",
      "tu nanga hi to aayega\n",
      "kya ghanta lekar jaayega\n",
      "meri bediyan par\n",
      "yahaan pighlayega x (2)\n",
      " \n",
      "tu nanga hi barkat ki ab aadat ki, amaana ab jeene de\n",
      "ab kuchh mil payega apna time aaya khwaab hai\n",
      "tere bhai jaisa mera khwaab\n",
      "ab kaise tu dafnayega x (2)\n",
      " \n",
      "tu nanga hi to aaya hai\n",
      "shohrat ne hi barkat ki, ibaadat ki, ibaadat ki, ibaadat ki\n",
      "adalat yeh shabdon ki apni rehmat mein hai\n",
      "kya ghanta lekar jaayega apna time aayega\n",
      "zinda mera khwaab hai jaisa koyi hai\n",
      "kya ghanta lekar jaayega\n",
      " \n",
      "yeh shaan par aaya hai\n",
      "kya ghanta lekar jaayega\n",
      " \n",
      "yeh shabdon ki hai\n",
      "shohrat ki\n",
      "jeetne ki hai\n",
      "kya ghanta lekar jaayega\n",
      "apna time aayega\n",
      "apna time aaya hai\n",
      "zaroorat ki hai\n",
      "zaroorat ne hi to aayega\n",
      " \n",
      "yeh shaanat se jeene mein\n",
      "parwaaz dekh parwane ki harkat ki mehnat ki apna time aaya khwaab hausle se main\n",
      "jitni raaste ko bhi satayega\n",
      "jitna hi barkat ki\n",
      "mohobbat\n"
     ]
    }
   ],
   "source": [
    "lyrics = generate_text(T,\"Apna Time\")\n",
    "print(lyrics)"
   ]
  },
  {
   "cell_type": "code",
   "execution_count": null,
   "metadata": {},
   "outputs": [],
   "source": []
  }
 ],
 "metadata": {
  "kernelspec": {
   "display_name": "Python 3",
   "language": "python",
   "name": "python3"
  },
  "language_info": {
   "codemirror_mode": {
    "name": "ipython",
    "version": 3
   },
   "file_extension": ".py",
   "mimetype": "text/x-python",
   "name": "python",
   "nbconvert_exporter": "python",
   "pygments_lexer": "ipython3",
   "version": "3.7.6"
  }
 },
 "nbformat": 4,
 "nbformat_minor": 4
}
